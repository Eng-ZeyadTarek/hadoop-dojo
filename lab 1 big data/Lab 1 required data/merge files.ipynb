{
 "cells": [
  {
   "cell_type": "code",
   "execution_count": 8,
   "metadata": {},
   "outputs": [
    {
     "ename": "TypeError",
     "evalue": "concat() got an unexpected keyword argument 'index'",
     "output_type": "error",
     "traceback": [
      "\u001b[1;31m---------------------------------------------------------------------------\u001b[0m",
      "\u001b[1;31mTypeError\u001b[0m                                 Traceback (most recent call last)",
      "\u001b[1;32mc:\\Users\\Zeyad Tarek\\Documents\\Env\\merge files.ipynb Cell 1'\u001b[0m in \u001b[0;36m<cell line: 10>\u001b[1;34m()\u001b[0m\n\u001b[0;32m      <a href='vscode-notebook-cell:/c%3A/Users/Zeyad%20Tarek/Documents/Env/merge%20files.ipynb#ch0000000?line=4'>5</a>\u001b[0m     \u001b[39mreturn\u001b[39;00m pd\u001b[39m.\u001b[39mread_csv(\u001b[39mf\u001b[39m\u001b[39m\"\u001b[39m\u001b[39mC:\u001b[39m\u001b[39m\\\\\u001b[39;00m\u001b[39mUsers\u001b[39m\u001b[39m\\\\\u001b[39;00m\u001b[39mZeyad Tarek\u001b[39m\u001b[39m\\\\\u001b[39;00m\u001b[39mDocuments\u001b[39m\u001b[39m\\\\\u001b[39;00m\u001b[39mEnv\u001b[39m\u001b[39m\\\\\u001b[39;00m\u001b[39m{\u001b[39;00mfile\u001b[39m}\u001b[39;00m\u001b[39m\"\u001b[39m)\n\u001b[0;32m      <a href='vscode-notebook-cell:/c%3A/Users/Zeyad%20Tarek/Documents/Env/merge%20files.ipynb#ch0000000?line=7'>8</a>\u001b[0m files \u001b[39m=\u001b[39m [read_data(\u001b[39m\"\u001b[39m\u001b[39mAAPL.csv\u001b[39m\u001b[39m\"\u001b[39m),read_data(\u001b[39m\"\u001b[39m\u001b[39mADBE.csv\u001b[39m\u001b[39m\"\u001b[39m),read_data(\u001b[39m\"\u001b[39m\u001b[39mAMD.csv\u001b[39m\u001b[39m\"\u001b[39m),read_data(\u001b[39m\"\u001b[39m\u001b[39mIMPP.csv\u001b[39m\u001b[39m\"\u001b[39m),read_data(\u001b[39m\"\u001b[39m\u001b[39mQCOM.csv\u001b[39m\u001b[39m\"\u001b[39m)]\n\u001b[1;32m---> <a href='vscode-notebook-cell:/c%3A/Users/Zeyad%20Tarek/Documents/Env/merge%20files.ipynb#ch0000000?line=9'>10</a>\u001b[0m all_files \u001b[39m=\u001b[39m pd\u001b[39m.\u001b[39;49mconcat(files, ignore_index\u001b[39m=\u001b[39;49m\u001b[39mTrue\u001b[39;49;00m, index \u001b[39m=\u001b[39;49m \u001b[39mFalse\u001b[39;49;00m,axis\u001b[39m=\u001b[39;49m\u001b[39m0\u001b[39;49m)\n\u001b[0;32m     <a href='vscode-notebook-cell:/c%3A/Users/Zeyad%20Tarek/Documents/Env/merge%20files.ipynb#ch0000000?line=11'>12</a>\u001b[0m all_files\u001b[39m.\u001b[39mto_csv(\u001b[39m\"\u001b[39m\u001b[39mstock.csv\u001b[39m\u001b[39m\"\u001b[39m)\n",
      "File \u001b[1;32mc:\\ProgramData\\Anaconda3\\envs\\py10\\lib\\site-packages\\pandas\\util\\_decorators.py:311\u001b[0m, in \u001b[0;36mdeprecate_nonkeyword_arguments.<locals>.decorate.<locals>.wrapper\u001b[1;34m(*args, **kwargs)\u001b[0m\n\u001b[0;32m    305\u001b[0m \u001b[39mif\u001b[39;00m \u001b[39mlen\u001b[39m(args) \u001b[39m>\u001b[39m num_allow_args:\n\u001b[0;32m    306\u001b[0m     warnings\u001b[39m.\u001b[39mwarn(\n\u001b[0;32m    307\u001b[0m         msg\u001b[39m.\u001b[39mformat(arguments\u001b[39m=\u001b[39marguments),\n\u001b[0;32m    308\u001b[0m         \u001b[39mFutureWarning\u001b[39;00m,\n\u001b[0;32m    309\u001b[0m         stacklevel\u001b[39m=\u001b[39mstacklevel,\n\u001b[0;32m    310\u001b[0m     )\n\u001b[1;32m--> 311\u001b[0m \u001b[39mreturn\u001b[39;00m func(\u001b[39m*\u001b[39margs, \u001b[39m*\u001b[39m\u001b[39m*\u001b[39mkwargs)\n",
      "\u001b[1;31mTypeError\u001b[0m: concat() got an unexpected keyword argument 'index'"
     ]
    }
   ],
   "source": [
    "import pandas as pd\n",
    "\n",
    "def read_data(file):\n",
    "    \n",
    "    return pd.read_csv(f\"C:\\\\Users\\\\Zeyad Tarek\\\\Documents\\\\Env\\\\{file}\")\n",
    "\n",
    "\n",
    "files = [read_data(\"AAPL.csv\"),read_data(\"ADBE.csv\"),read_data(\"AMD.csv\"),read_data(\"IMPP.csv\"),read_data(\"QCOM.csv\")]\n",
    "\n",
    "all_files = pd.concat(files, ignore_index=True,axis=0, index = False)\n",
    "\n",
    "all_files.to_csv(\"stock.csv\")"
   ]
  }
 ],
 "metadata": {
  "kernelspec": {
   "display_name": "Python 3.10.4 ('py10')",
   "language": "python",
   "name": "python3"
  },
  "language_info": {
   "codemirror_mode": {
    "name": "ipython",
    "version": 3
   },
   "file_extension": ".py",
   "mimetype": "text/x-python",
   "name": "python",
   "nbconvert_exporter": "python",
   "pygments_lexer": "ipython3",
   "version": "3.10.4"
  },
  "orig_nbformat": 4,
  "vscode": {
   "interpreter": {
    "hash": "5dd5f8e12b52256db706a7757d4ff925217ebc162bb7ba53c9abf8d847d6b988"
   }
  }
 },
 "nbformat": 4,
 "nbformat_minor": 2
}
